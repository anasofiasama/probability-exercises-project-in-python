{
 "cells": [
  {
   "cell_type": "markdown",
   "id": "a41f3622",
   "metadata": {},
   "source": [
    "# Probability exercises"
   ]
  },
  {
   "cell_type": "markdown",
   "id": "a6bdbd89",
   "metadata": {},
   "source": [
    "### Exercise 1 \n",
    "\n",
    "Two unbiased dice are thrown once and the total score is observed. Use a simulation to find the estimated probability that the total score is even or greater than 7\n",
    "\n",
    "We could use a mathematical equation to solve this or we can run the experiment many times, and then count the number of times where the score is even or greater than 7\n",
    "\n",
    "-Run the experiment 1000 times (roll 2 dice 1000 times, and sum the result)\n",
    "\n",
    "-Keep track of the number of times that the sum was either greater than 7 or an even number\n",
    "\n",
    "-Divide the number from step 2 by the number of iterations (1000)\n"
   ]
  },
  {
   "cell_type": "code",
   "execution_count": 2,
   "id": "6b78aef3",
   "metadata": {},
   "outputs": [],
   "source": [
    "#import libraries\n",
    "import numpy as np\n",
    "import pandas as pd"
   ]
  },
  {
   "cell_type": "code",
   "execution_count": 3,
   "id": "8939d892",
   "metadata": {},
   "outputs": [],
   "source": [
    "#Funtion to roll the dice.\n",
    "\n",
    "\n",
    "def roll(dice1,dice2,n):\n",
    "    np.random.seed(123)    \n",
    "    roll_dice1=np.random.choice(dice1,n)\n",
    "    roll_dice2=np.random.choice(dice2,n)\n",
    "    tot_score=np.add(roll_dice1,roll_dice2)\n",
    "    tot_ok=[i for i in list(tot_score) if (i>7) | (i%2==0)]\n",
    "    \n",
    "    return tot_ok, len(tot_ok)/len(tot_score)\n",
    "\n",
    "n=1000\n",
    "dice1=np.arange(1,7)\n",
    "dice2=np.arange(1,7)\n",
    "\n",
    "tot_ok, prob=roll(dice1,dice2,n)"
   ]
  },
  {
   "cell_type": "code",
   "execution_count": 4,
   "id": "54b66d13",
   "metadata": {},
   "outputs": [
    {
     "name": "stdout",
     "output_type": "stream",
     "text": [
      "Probabilidad de que salga un numero mayor a 7 o sea par es :  0.662\n"
     ]
    }
   ],
   "source": [
    "print('Probabilidad de que salga un numero mayor a 7 o sea par es : ',prob)"
   ]
  },
  {
   "cell_type": "code",
   "execution_count": 5,
   "id": "e1a20a38",
   "metadata": {},
   "outputs": [
    {
     "name": "stdout",
     "output_type": "stream",
     "text": [
      "Los eventos seleccionados son  662\n"
     ]
    }
   ],
   "source": [
    "print('Los eventos seleccionados son ',len(tot_ok))\n",
    "#display(tot_ok)"
   ]
  },
  {
   "cell_type": "markdown",
   "id": "55732bca",
   "metadata": {},
   "source": [
    "### Exercise 2\n",
    "\n",
    "A box contains 10 white balls, 20 reds and 30 greens. Draw 5 balls with replacement. What is the probability that:\n",
    "\n",
    "a. 3 white or 2 red\n",
    "\n",
    "b. All 5 are the same color\n",
    "\n",
    "\n",
    "We will use the same system here. We will pick our balls during each round and count the number of times that:\n",
    "\n",
    "a. 3 white or 2 red \n",
    "\n",
    "b. All 5 are the same color."
   ]
  },
  {
   "cell_type": "code",
   "execution_count": 6,
   "id": "23244d20",
   "metadata": {},
   "outputs": [],
   "source": [
    "d = {}\n",
    "\n",
    "for i in range(60):\n",
    "    if i < 10:\n",
    "        d[i] = 'White'\n",
    "    elif i > 9 and i < 30:\n",
    "        d[i] = 'Red'\n",
    "    else:\n",
    "        d[i] = 'Green'  "
   ]
  },
  {
   "cell_type": "code",
   "execution_count": 7,
   "id": "e791c8f4",
   "metadata": {},
   "outputs": [
    {
     "name": "stdout",
     "output_type": "stream",
     "text": [
      "Con remplazo\n",
      "------------\n",
      "La probabilidad de obtener 3 bolas blancas o 2 rojas es 36.0 por ciento\n",
      "La probabilidad de obtener 5 de un mismo color es 0.1 por ciento\n",
      "\n",
      "Sin remplazo\n",
      "------------\n",
      "La probabilidad de obtener 3 bolas blancas o 2 rojas es 37.0 por ciento\n",
      "La probabilidad de obtener 5 de un mismo color es 2.6 por ciento\n"
     ]
    }
   ],
   "source": [
    "# Defino una funcion que realiza el proceso de sacar n veces b bolas con remplazo\n",
    "\n",
    "def selectbols_cr(b,n):\n",
    "    select_dict={}\n",
    "    \n",
    "    for i in range(n):\n",
    "        step=np.random.choice(list(d.values()),b) # Muestra aleatoria con reemplazo\n",
    "        tot_w=len([i for i in step if i=='White'])\n",
    "        tot_r=len([i for i in step if i=='Red'])\n",
    "        tot_g=len([i for i in step if i=='Green'])\n",
    "        # Creo un diccionario con cada evento y la cantidad de veces que salio cada color\n",
    "        select_dict[i]={'colores':list(step),'White':tot_w,'Red':tot_r,'Green':tot_g}\n",
    "    return select_dict\n",
    "\n",
    "# Defino una funcion que realiza el proceso de sacar n veces b bolas sin remplazo\n",
    "\n",
    "def selectbols_sr(b,n):\n",
    "    select_dict={}\n",
    "    \n",
    "    for i in range(n):\n",
    "        step=np.random.choice(list(d.values()),b, replace=False) # Muestra aleatoria sin reemplazo\n",
    "        tot_w=len([i for i in step if i=='White'])\n",
    "        tot_r=len([i for i in step if i=='Red'])\n",
    "        tot_g=len([i for i in step if i=='Green'])\n",
    "        # Creo un diccionario con cada evento y la cantidad de veces que salio cada color\n",
    "        select_dict[i]={'colores':list(step),'White':tot_w,'Red':tot_r,'Green':tot_g}\n",
    "    return select_dict\n",
    "\n",
    "# Corro las funciones y selecciono solo los casos favorables\n",
    "\n",
    "n=1000\n",
    "b=5\n",
    "\n",
    "select_dict_cr=selectbols_cr(b,n)\n",
    "\n",
    "count_a_cr=0\n",
    "count_b_cr=0\n",
    "\n",
    "for k,v in select_dict_cr.items():\n",
    "    if (v['White']==3) | (v['Red']==2):\n",
    "        count_a_cr+=1\n",
    "    if (v['White']==5) | (v['Red']==5) | (v['Green']==5):\n",
    "        count_b_cr=+1\n",
    "    #for f,j in v.items():\n",
    "     #   if j==5:\n",
    "         #   count_b_cr+=1\n",
    "\n",
    "print('Con remplazo')\n",
    "print('------------')\n",
    "print('La probabilidad de obtener 3 bolas blancas o 2 rojas es', round(count_a_cr/n*100,3), 'por ciento')\n",
    "print('La probabilidad de obtener 5 de un mismo color es', round(count_b_cr/n*100,3), 'por ciento')\n",
    "\n",
    "select_dict_sr=selectbols_sr(b,n)\n",
    "\n",
    "count_a_sr=0\n",
    "count_b_sr=0\n",
    "\n",
    "for k,v in select_dict_sr.items():\n",
    "    if (v['White']==3) | (v['Red']==2):\n",
    "        count_a_sr+=1\n",
    "    for f,j in v.items():\n",
    "        if j==5:\n",
    "            count_b_sr+=1\n",
    "\n",
    "print('')\n",
    "print('Sin remplazo')\n",
    "print('------------')\n",
    "print('La probabilidad de obtener 3 bolas blancas o 2 rojas es', round(count_a_sr/n*100,3), 'por ciento')\n",
    "print('La probabilidad de obtener 5 de un mismo color es', round(count_b_sr/n*100,3), 'por ciento')"
   ]
  }
 ],
 "metadata": {
  "interpreter": {
   "hash": "9248718ffe6ce6938b217e69dbcc175ea21f4c6b28a317e96c05334edae734bb"
  },
  "kernelspec": {
   "display_name": "Python 3",
   "language": "python",
   "name": "python3"
  },
  "language_info": {
   "codemirror_mode": {
    "name": "ipython",
    "version": 3
   },
   "file_extension": ".py",
   "mimetype": "text/x-python",
   "name": "python",
   "nbconvert_exporter": "python",
   "pygments_lexer": "ipython3",
   "version": "3.8.5"
  }
 },
 "nbformat": 4,
 "nbformat_minor": 5
}
